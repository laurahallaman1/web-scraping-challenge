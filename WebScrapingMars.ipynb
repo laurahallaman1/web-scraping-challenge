{
  "nbformat": 4,
  "nbformat_minor": 0,
  "metadata": {
    "colab": {
      "name": "WebScrapingMars.ipynb",
      "provenance": [],
      "collapsed_sections": [],
      "authorship_tag": "ABX9TyPydOcwkX5Maf1RQd51jxZs",
      "include_colab_link": true
    },
    "kernelspec": {
      "name": "python3",
      "display_name": "Python 3"
    }
  },
  "cells": [
    {
      "cell_type": "markdown",
      "metadata": {
        "id": "view-in-github",
        "colab_type": "text"
      },
      "source": [
        "<a href=\"https://colab.research.google.com/github/laurahallaman1/web-scraping-challenge/blob/master/WebScrapingMars.ipynb\" target=\"_parent\"><img src=\"https://colab.research.google.com/assets/colab-badge.svg\" alt=\"Open In Colab\"/></a>"
      ]
    },
    {
      "cell_type": "code",
      "metadata": {
        "id": "POekJ_Ob7-xy",
        "colab_type": "code",
        "colab": {}
      },
      "source": [
        "# Import Splinter and BeautifulSoup\n",
        "from splinter import Browser\n",
        "\n",
        "from bs4 import BeautifulSoup\n",
        "\n",
        "!apt-get update\n",
        "!pip install selenium\n",
        "!pip install pandas\n",
        "!pip install anytree\n",
        "!apt install chromium-chromedriver\n",
        "!cp /usr/lib/chromium-browser/chromedriver\n",
        "\n",
        "import sys\n",
        "\n",
        "try:\n",
        "    from httplib import HTTPException\n",
        "except ImportError:\n",
        "    from http.client import HTTPException\n",
        "\n",
        "from urllib3.exceptions import MaxRetryError\n",
        "\n",
        "from selenium.common.exceptions import WebDriverException\n",
        "\n",
        "from splinter.driver.webdriver.firefox import WebDriver as FirefoxWebDriver\n",
        "from splinter.driver.webdriver.remote import WebDriver as RemoteWebDriver\n",
        "from splinter.driver.webdriver.chrome import WebDriver as ChromeWebDriver\n",
        "from splinter.exceptions import DriverNotFoundError\n",
        "\n",
        "\n",
        "_DRIVERS = {\n",
        "    \"firefox\": FirefoxWebDriver,\n",
        "    \"remote\": RemoteWebDriver,\n",
        "    \"chrome\": ChromeWebDriver,\n",
        "}"
      ],
      "execution_count": 0,
      "outputs": []
    },
    {
      "cell_type": "code",
      "metadata": {
        "id": "FM9wgrQ38ArS",
        "colab_type": "code",
        "colab": {}
      },
      "source": [
        "# Path to chromedriver\n",
        "!which chromedriver"
      ],
      "execution_count": 0,
      "outputs": []
    },
    {
      "cell_type": "code",
      "metadata": {
        "id": "ivXNGCp98Edj",
        "colab_type": "code",
        "colab": {}
      },
      "source": [
        "# Set the executable path and initialize the chrome browser in splinter\n",
        "\n",
        "executable_path = {'executable_path': '/usr/bin/chromedriver'}\n",
        "\n",
        "browser = Browser('chrome', **executable_path)\n"
      ],
      "execution_count": 0,
      "outputs": []
    },
    {
      "cell_type": "code",
      "metadata": {
        "id": "h88I2BSZ8FRu",
        "colab_type": "code",
        "colab": {}
      },
      "source": [
        "# Visit the mars nasa news site\n",
        "url = 'https://mars.nasa.gov/news/'\n",
        "browser.visit(url)\n",
        "\n",
        "# Optional delay for loading the page\n",
        "browser.is_element_present_by_css(\"ul.item_list li.slide\", wait_time=1)"
      ],
      "execution_count": 0,
      "outputs": []
    },
    {
      "cell_type": "code",
      "metadata": {
        "id": "EI1EJvpt8I7R",
        "colab_type": "code",
        "colab": {}
      },
      "source": [
        "# Convert the browser html to a soup object and then quit the browser\n",
        "html = browser.html\n",
        "news_soup = BeautifulSoup(html, 'html.parser')\n",
        "\n",
        "slide_elem = news_soup.select_one('ul.item_list li.slide')"
      ],
      "execution_count": 0,
      "outputs": []
    },
    {
      "cell_type": "code",
      "metadata": {
        "id": "P00DbXoX8MGo",
        "colab_type": "code",
        "colab": {}
      },
      "source": [
        "# Use the parent element to find the first a tag and save it as `news_title`\n",
        "news_title = slide_elem.find(\"div\", class_='content_title').get_text()\n",
        "news_title"
      ],
      "execution_count": 0,
      "outputs": []
    },
    {
      "cell_type": "code",
      "metadata": {
        "id": "NW-5flC48Oms",
        "colab_type": "code",
        "colab": {}
      },
      "source": [
        "# Use the parent element to find the paragraph text\n",
        "news_p = slide_elem.find('div', class_=\"article_teaser_body\").get_text()\n",
        "news_p"
      ],
      "execution_count": 0,
      "outputs": []
    },
    {
      "cell_type": "code",
      "metadata": {
        "id": "hUZmERlr8S57",
        "colab_type": "code",
        "colab": {}
      },
      "source": [
        "# Visit URL\n",
        "url = 'https://www.jpl.nasa.gov/spaceimages/?search=&category=Mars'\n",
        "browser.visit(url)"
      ],
      "execution_count": 0,
      "outputs": []
    }
  ]
}